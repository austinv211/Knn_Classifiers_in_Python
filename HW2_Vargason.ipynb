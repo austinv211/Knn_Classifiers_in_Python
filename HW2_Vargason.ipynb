{
 "cells": [
  {
   "cell_type": "markdown",
   "metadata": {},
   "source": [
    "# Start By reading the csv from the DATA URL\n",
    "- We can load a csv from a url using pandas' read_csv function\n",
    "- The CSV will be stored as a pandas DataFrame object\n",
    "\n",
    "### Note on notation\n",
    "- names that should be treated as constants are ALL CAPS"
   ]
  },
  {
   "cell_type": "code",
   "execution_count": 344,
   "metadata": {},
   "outputs": [
    {
     "name": "stdout",
     "output_type": "stream",
     "text": [
      "     sepal_length  sepal_width  petal_length  petal_width    species\n",
      "0             5.1          3.5           1.4          0.2     setosa\n",
      "1             4.9          3.0           1.4          0.2     setosa\n",
      "2             4.7          3.2           1.3          0.2     setosa\n",
      "3             4.6          3.1           1.5          0.2     setosa\n",
      "4             5.0          3.6           1.4          0.2     setosa\n",
      "..            ...          ...           ...          ...        ...\n",
      "145           6.7          3.0           5.2          2.3  virginica\n",
      "146           6.3          2.5           5.0          1.9  virginica\n",
      "147           6.5          3.0           5.2          2.0  virginica\n",
      "148           6.2          3.4           5.4          2.3  virginica\n",
      "149           5.9          3.0           5.1          1.8  virginica\n",
      "\n",
      "[150 rows x 5 columns]\n"
     ]
    }
   ],
   "source": [
    "import pandas\n",
    "\n",
    "# import numpy\n",
    "import numpy as np\n",
    "\n",
    "#import typing modules for type annotations\n",
    "from typing import List, Dict, Callable, Tuple\n",
    "\n",
    "DATA_URL = 'https://raw.githubusercontent.com/mpourhoma/CS4661/master/iris.csv'\n",
    "IRIS_DATA_SET = pandas.read_csv(DATA_URL)\n",
    "\n",
    "print(IRIS_DATA_SET)"
   ]
  },
  {
   "cell_type": "markdown",
   "metadata": {},
   "source": [
    "# Next we split our data set into a training and testing data set\n",
    "- here our test data set is 40% of the values and our random state is set to 10, think of this like a random seed"
   ]
  },
  {
   "cell_type": "code",
   "execution_count": 345,
   "metadata": {},
   "outputs": [
    {
     "name": "stdout",
     "output_type": "stream",
     "text": [
      "\n",
      "Training Data Set:\n",
      "\n",
      "      sepal_length  sepal_width  petal_length  petal_width     species\n",
      "29            4.7          3.2           1.6          0.2      setosa\n",
      "3             4.6          3.1           1.5          0.2      setosa\n",
      "106           4.9          2.5           4.5          1.7   virginica\n",
      "98            5.1          2.5           3.0          1.1  versicolor\n",
      "140           6.7          3.1           5.6          2.4   virginica\n",
      "..            ...          ...           ...          ...         ...\n",
      "113           5.7          2.5           5.0          2.0   virginica\n",
      "64            5.6          2.9           3.6          1.3  versicolor\n",
      "15            5.7          4.4           1.5          0.4      setosa\n",
      "125           7.2          3.2           6.0          1.8   virginica\n",
      "9             4.9          3.1           1.5          0.1      setosa\n",
      "\n",
      "[90 rows x 5 columns]\n",
      "\n",
      "Testing Data Set:\n",
      "\n",
      "      sepal_length  sepal_width  petal_length  petal_width     species\n",
      "87            6.3          2.3           4.4          1.3  versicolor\n",
      "111           6.4          2.7           5.3          1.9   virginica\n",
      "10            5.4          3.7           1.5          0.2      setosa\n",
      "91            6.1          3.0           4.6          1.4  versicolor\n",
      "49            5.0          3.3           1.4          0.2      setosa\n",
      "60            5.0          2.0           3.5          1.0  versicolor\n",
      "72            6.3          2.5           4.9          1.5  versicolor\n",
      "67            5.8          2.7           4.1          1.0  versicolor\n",
      "39            5.1          3.4           1.5          0.2      setosa\n",
      "55            5.7          2.8           4.5          1.3  versicolor\n",
      "66            5.6          3.0           4.5          1.5  versicolor\n",
      "142           5.8          2.7           5.1          1.9   virginica\n",
      "53            5.5          2.3           4.0          1.3  versicolor\n",
      "1             4.9          3.0           1.4          0.2      setosa\n",
      "19            5.1          3.8           1.5          0.3      setosa\n",
      "112           6.8          3.0           5.5          2.1   virginica\n",
      "85            6.0          3.4           4.5          1.6  versicolor\n",
      "38            4.4          3.0           1.3          0.2      setosa\n",
      "21            5.1          3.7           1.5          0.4      setosa\n",
      "35            5.0          3.2           1.2          0.2      setosa\n",
      "102           7.1          3.0           5.9          2.1   virginica\n",
      "132           6.4          2.8           5.6          2.2   virginica\n",
      "126           6.2          2.8           4.8          1.8   virginica\n",
      "24            4.8          3.4           1.9          0.2      setosa\n",
      "61            5.9          3.0           4.2          1.5  versicolor\n",
      "2             4.7          3.2           1.3          0.2      setosa\n",
      "95            5.7          3.0           4.2          1.2  versicolor\n",
      "90            5.5          2.6           4.4          1.2  versicolor\n",
      "76            6.8          2.8           4.8          1.4  versicolor\n",
      "117           7.7          3.8           6.7          2.2   virginica\n",
      "58            6.6          2.9           4.6          1.3  versicolor\n",
      "97            6.2          2.9           4.3          1.3  versicolor\n",
      "129           7.2          3.0           5.8          1.6   virginica\n",
      "114           5.8          2.8           5.1          2.4   virginica\n",
      "146           6.3          2.5           5.0          1.9   virginica\n",
      "47            4.6          3.2           1.4          0.2      setosa\n",
      "124           6.7          3.3           5.7          2.1   virginica\n",
      "120           6.9          3.2           5.7          2.3   virginica\n",
      "118           7.7          2.6           6.9          2.3   virginica\n",
      "141           6.9          3.1           5.1          2.3   virginica\n",
      "26            5.0          3.4           1.6          0.4      setosa\n",
      "43            5.0          3.5           1.6          0.6      setosa\n",
      "59            5.2          2.7           3.9          1.4  versicolor\n",
      "41            4.5          2.3           1.3          0.3      setosa\n",
      "56            6.3          3.3           4.7          1.6  versicolor\n",
      "32            5.2          4.1           1.5          0.1      setosa\n",
      "52            6.9          3.1           4.9          1.5  versicolor\n",
      "70            5.9          3.2           4.8          1.8  versicolor\n",
      "121           5.6          2.8           4.9          2.0   virginica\n",
      "144           6.7          3.3           5.7          2.5   virginica\n",
      "68            6.2          2.2           4.5          1.5  versicolor\n",
      "109           7.2          3.6           6.1          2.5   virginica\n",
      "81            5.5          2.4           3.7          1.0  versicolor\n",
      "78            6.0          2.9           4.5          1.5  versicolor\n",
      "51            6.4          3.2           4.5          1.5  versicolor\n",
      "14            5.8          4.0           1.2          0.2      setosa\n",
      "48            5.3          3.7           1.5          0.2      setosa\n",
      "63            6.1          2.9           4.7          1.4  versicolor\n",
      "20            5.4          3.4           1.7          0.2      setosa\n",
      "137           6.4          3.1           5.5          1.8   virginica\n"
     ]
    }
   ],
   "source": [
    "from sklearn.model_selection import train_test_split\n",
    "\n",
    "TRAIN, TEST = train_test_split(IRIS_DATA_SET, test_size=0.4, random_state=10)\n",
    "\n",
    "print(f'\\nTraining Data Set:\\n\\n {TRAIN}\\n\\nTesting Data Set:\\n\\n {TEST}')"
   ]
  },
  {
   "cell_type": "markdown",
   "metadata": {},
   "source": [
    "# Now we define a function called get_knn_classifiers\n",
    "- This function will return a list of Knn classifier objects based on an iterable of k values provided"
   ]
  },
  {
   "cell_type": "code",
   "execution_count": 346,
   "metadata": {},
   "outputs": [],
   "source": [
    "from sklearn.neighbors import KNeighborsClassifier\n",
    "\n",
    "def get_knn_classifiers(k_values: List[int]) -> List[KNeighborsClassifier]:\n",
    "    return [KNeighborsClassifier(n_neighbors=k_value) for k_value in k_values]\n"
   ]
  },
  {
   "cell_type": "markdown",
   "metadata": {},
   "source": [
    "# Now we can define 2 functions, fit_and_predict and get_y_predictions_multiple\n",
    "- fit and predict with take a knn classifier, fit it to a training data set, then return a prediction on test data\n",
    "- get_y_predictions_multiple_k uses fit_and_predict in a list comprehension to create a list of tuples (prediction, k_value)"
   ]
  },
  {
   "cell_type": "code",
   "execution_count": 347,
   "metadata": {},
   "outputs": [
    {
     "name": "stdout",
     "output_type": "stream",
     "text": [
      "[(array(['versicolor', 'virginica', 'setosa', 'versicolor', 'setosa',\n",
      "       'versicolor', 'virginica', 'versicolor', 'setosa', 'versicolor',\n",
      "       'versicolor', 'virginica', 'versicolor', 'setosa', 'setosa',\n",
      "       'virginica', 'virginica', 'setosa', 'setosa', 'setosa',\n",
      "       'virginica', 'virginica', 'virginica', 'setosa', 'versicolor',\n",
      "       'setosa', 'versicolor', 'versicolor', 'versicolor', 'virginica',\n",
      "       'versicolor', 'versicolor', 'virginica', 'virginica', 'virginica',\n",
      "       'setosa', 'virginica', 'virginica', 'virginica', 'virginica',\n",
      "       'setosa', 'setosa', 'versicolor', 'setosa', 'virginica', 'setosa',\n",
      "       'versicolor', 'virginica', 'virginica', 'virginica', 'virginica',\n",
      "       'virginica', 'versicolor', 'versicolor', 'versicolor', 'setosa',\n",
      "       'setosa', 'versicolor', 'setosa', 'virginica'], dtype=object), 1), (array(['versicolor', 'virginica', 'setosa', 'versicolor', 'setosa',\n",
      "       'versicolor', 'virginica', 'versicolor', 'setosa', 'versicolor',\n",
      "       'versicolor', 'virginica', 'versicolor', 'setosa', 'setosa',\n",
      "       'virginica', 'versicolor', 'setosa', 'setosa', 'setosa',\n",
      "       'virginica', 'virginica', 'virginica', 'setosa', 'versicolor',\n",
      "       'setosa', 'versicolor', 'versicolor', 'versicolor', 'virginica',\n",
      "       'versicolor', 'versicolor', 'virginica', 'virginica', 'virginica',\n",
      "       'setosa', 'virginica', 'virginica', 'virginica', 'virginica',\n",
      "       'setosa', 'setosa', 'versicolor', 'setosa', 'versicolor', 'setosa',\n",
      "       'versicolor', 'virginica', 'virginica', 'virginica', 'versicolor',\n",
      "       'virginica', 'versicolor', 'versicolor', 'versicolor', 'setosa',\n",
      "       'setosa', 'virginica', 'setosa', 'virginica'], dtype=object), 5), (array(['versicolor', 'virginica', 'setosa', 'versicolor', 'setosa',\n",
      "       'versicolor', 'virginica', 'versicolor', 'setosa', 'versicolor',\n",
      "       'versicolor', 'virginica', 'versicolor', 'setosa', 'setosa',\n",
      "       'virginica', 'versicolor', 'setosa', 'setosa', 'setosa',\n",
      "       'virginica', 'virginica', 'virginica', 'setosa', 'versicolor',\n",
      "       'setosa', 'versicolor', 'versicolor', 'versicolor', 'virginica',\n",
      "       'versicolor', 'versicolor', 'virginica', 'virginica', 'virginica',\n",
      "       'setosa', 'virginica', 'virginica', 'virginica', 'virginica',\n",
      "       'setosa', 'setosa', 'versicolor', 'setosa', 'versicolor', 'setosa',\n",
      "       'versicolor', 'virginica', 'virginica', 'virginica', 'versicolor',\n",
      "       'virginica', 'versicolor', 'versicolor', 'versicolor', 'setosa',\n",
      "       'setosa', 'versicolor', 'setosa', 'virginica'], dtype=object), 7), (array(['versicolor', 'virginica', 'setosa', 'versicolor', 'setosa',\n",
      "       'versicolor', 'virginica', 'versicolor', 'setosa', 'versicolor',\n",
      "       'versicolor', 'virginica', 'versicolor', 'setosa', 'setosa',\n",
      "       'virginica', 'versicolor', 'setosa', 'setosa', 'setosa',\n",
      "       'virginica', 'virginica', 'virginica', 'setosa', 'versicolor',\n",
      "       'setosa', 'versicolor', 'versicolor', 'versicolor', 'virginica',\n",
      "       'versicolor', 'versicolor', 'virginica', 'virginica', 'virginica',\n",
      "       'setosa', 'virginica', 'virginica', 'virginica', 'virginica',\n",
      "       'setosa', 'setosa', 'versicolor', 'setosa', 'versicolor', 'setosa',\n",
      "       'virginica', 'virginica', 'virginica', 'virginica', 'versicolor',\n",
      "       'virginica', 'versicolor', 'versicolor', 'versicolor', 'setosa',\n",
      "       'setosa', 'versicolor', 'setosa', 'virginica'], dtype=object), 15), (array(['versicolor', 'virginica', 'setosa', 'versicolor', 'setosa',\n",
      "       'versicolor', 'virginica', 'versicolor', 'setosa', 'versicolor',\n",
      "       'versicolor', 'virginica', 'versicolor', 'setosa', 'setosa',\n",
      "       'virginica', 'versicolor', 'setosa', 'setosa', 'setosa',\n",
      "       'virginica', 'virginica', 'virginica', 'setosa', 'versicolor',\n",
      "       'setosa', 'versicolor', 'versicolor', 'virginica', 'virginica',\n",
      "       'versicolor', 'versicolor', 'virginica', 'virginica', 'virginica',\n",
      "       'setosa', 'virginica', 'virginica', 'virginica', 'virginica',\n",
      "       'setosa', 'setosa', 'versicolor', 'setosa', 'versicolor', 'setosa',\n",
      "       'virginica', 'versicolor', 'virginica', 'virginica', 'versicolor',\n",
      "       'virginica', 'versicolor', 'versicolor', 'versicolor', 'setosa',\n",
      "       'setosa', 'versicolor', 'setosa', 'virginica'], dtype=object), 27), (array(['virginica', 'virginica', 'setosa', 'virginica', 'setosa',\n",
      "       'versicolor', 'virginica', 'virginica', 'setosa', 'virginica',\n",
      "       'virginica', 'virginica', 'versicolor', 'setosa', 'setosa',\n",
      "       'virginica', 'virginica', 'setosa', 'setosa', 'setosa',\n",
      "       'virginica', 'virginica', 'virginica', 'setosa', 'virginica',\n",
      "       'setosa', 'virginica', 'virginica', 'virginica', 'virginica',\n",
      "       'virginica', 'virginica', 'virginica', 'virginica', 'virginica',\n",
      "       'setosa', 'virginica', 'virginica', 'virginica', 'virginica',\n",
      "       'setosa', 'setosa', 'versicolor', 'setosa', 'virginica', 'setosa',\n",
      "       'virginica', 'virginica', 'virginica', 'virginica', 'virginica',\n",
      "       'virginica', 'versicolor', 'virginica', 'virginica', 'setosa',\n",
      "       'setosa', 'virginica', 'setosa', 'virginica'], dtype=object), 59)]\n"
     ]
    }
   ],
   "source": [
    "FEATURE_COLUMNS = ['sepal_length', 'sepal_width', 'petal_length', 'petal_width']\n",
    "\n",
    "def fit_and_predict(knn: KNeighborsClassifier, train_data: pandas.DataFrame, train_target: pandas.Series , test_data: pandas.DataFrame) -> Tuple[np.array, int]:\n",
    "    knn.fit(train_data, train_target)\n",
    "    return knn.predict(test_data)\n",
    "\n",
    "def get_y_predictions_multiple_k() -> List[Tuple[np.array, int]]:\n",
    "    train_X = TRAIN[FEATURE_COLUMNS]\n",
    "    train_y = TRAIN['species']\n",
    "    test_X = TEST[FEATURE_COLUMNS]\n",
    "    return [(fit_and_predict(knn, train_X, train_y, test_X), knn.n_neighbors) for knn in get_knn_classifiers([1, 5, 7, 15, 27, 59])]\n",
    "\n",
    "Y_PREDICT_MULTIPLE_K = get_y_predictions_multiple_k()\n",
    "\n",
    "print(Y_PREDICT_MULTIPLE_K)"
   ]
  },
  {
   "cell_type": "markdown",
   "metadata": {},
   "source": [
    "# Let's get some metrics!\n",
    "\n",
    "- Now we define a function called get_accuracy_scores\n",
    "- This will allow us to get how accurate we were on our prediction results. This function takes into account the tuple we pass it for labeling purposes down the line\n",
    "\n",
    "## Results\n",
    "- We can see that a higher k value does not necessarily mean a higher prediction accuracy\n",
    "- In this case a k value of 7 gives the highest accuracy\n",
    "\n",
    "k value of 7 produces ~97% ! pretty good so far"
   ]
  },
  {
   "cell_type": "code",
   "execution_count": 348,
   "metadata": {},
   "outputs": [
    {
     "name": "stdout",
     "output_type": "stream",
     "text": [
      "{1: 0.9166666666666666, 5: 0.95, 7: 0.9666666666666667, 15: 0.95, 27: 0.95, 59: 0.6666666666666666}\n"
     ]
    }
   ],
   "source": [
    "from sklearn.metrics import accuracy_score\n",
    "\n",
    "def get_accuracy_scores(test_y, y_predictions):\n",
    "    return { additional_value : accuracy_score(test_y, y_predict) for y_predict, additional_value in y_predictions}\n",
    "\n",
    "print(get_accuracy_scores(TEST['species'], Y_PREDICT_MULTIPLE_K))"
   ]
  },
  {
   "cell_type": "markdown",
   "metadata": {},
   "source": [
    "# Now Lets See which Single Feature Gives the Highest Accuracy\n",
    "- here we define a function called get_y_single_feature_predictions\n",
    "- this function uses a list comprehension to produce a list of tuples of the single feature data sets we are looking for\n",
    "- feature name is included in the tuple for easy labeling purposes\n",
    "- now we can get all the single feature predicitions for the data set by calling fit_and_predict like before\n",
    "- here we have to reshape the series into (-1, 1) arrays since we are doing single feature data sets and need consistent 2 dimensional arrays rather than Series"
   ]
  },
  {
   "cell_type": "code",
   "execution_count": 349,
   "metadata": {},
   "outputs": [
    {
     "name": "stdout",
     "output_type": "stream",
     "text": [
      "[(array(['virginica', 'virginica', 'versicolor', 'virginica', 'setosa',\n",
      "       'setosa', 'virginica', 'versicolor', 'setosa', 'versicolor',\n",
      "       'versicolor', 'versicolor', 'versicolor', 'setosa', 'setosa',\n",
      "       'virginica', 'virginica', 'setosa', 'setosa', 'setosa',\n",
      "       'virginica', 'virginica', 'virginica', 'setosa', 'virginica',\n",
      "       'setosa', 'versicolor', 'versicolor', 'virginica', 'virginica',\n",
      "       'virginica', 'virginica', 'virginica', 'versicolor', 'virginica',\n",
      "       'setosa', 'virginica', 'virginica', 'virginica', 'virginica',\n",
      "       'setosa', 'setosa', 'setosa', 'setosa', 'virginica', 'setosa',\n",
      "       'virginica', 'virginica', 'versicolor', 'virginica', 'virginica',\n",
      "       'virginica', 'versicolor', 'virginica', 'virginica', 'versicolor',\n",
      "       'setosa', 'virginica', 'versicolor', 'virginica'], dtype=object), 'sepal_length'), (array(['versicolor', 'virginica', 'setosa', 'virginica', 'virginica',\n",
      "       'versicolor', 'versicolor', 'virginica', 'setosa', 'versicolor',\n",
      "       'virginica', 'virginica', 'versicolor', 'virginica', 'setosa',\n",
      "       'virginica', 'setosa', 'virginica', 'setosa', 'virginica',\n",
      "       'virginica', 'versicolor', 'versicolor', 'setosa', 'virginica',\n",
      "       'virginica', 'virginica', 'versicolor', 'versicolor', 'setosa',\n",
      "       'versicolor', 'versicolor', 'virginica', 'versicolor',\n",
      "       'versicolor', 'virginica', 'virginica', 'virginica', 'versicolor',\n",
      "       'setosa', 'setosa', 'setosa', 'virginica', 'versicolor',\n",
      "       'virginica', 'setosa', 'setosa', 'virginica', 'versicolor',\n",
      "       'virginica', 'versicolor', 'setosa', 'versicolor', 'versicolor',\n",
      "       'virginica', 'setosa', 'setosa', 'versicolor', 'setosa', 'setosa'],\n",
      "      dtype=object), 'sepal_width'), (array(['versicolor', 'virginica', 'setosa', 'versicolor', 'setosa',\n",
      "       'versicolor', 'virginica', 'versicolor', 'setosa', 'versicolor',\n",
      "       'versicolor', 'virginica', 'versicolor', 'setosa', 'setosa',\n",
      "       'virginica', 'versicolor', 'setosa', 'setosa', 'setosa',\n",
      "       'virginica', 'virginica', 'virginica', 'setosa', 'versicolor',\n",
      "       'setosa', 'versicolor', 'versicolor', 'virginica', 'virginica',\n",
      "       'versicolor', 'versicolor', 'virginica', 'virginica', 'virginica',\n",
      "       'setosa', 'virginica', 'virginica', 'virginica', 'virginica',\n",
      "       'setosa', 'setosa', 'versicolor', 'setosa', 'versicolor', 'setosa',\n",
      "       'virginica', 'virginica', 'virginica', 'virginica', 'versicolor',\n",
      "       'virginica', 'versicolor', 'versicolor', 'versicolor', 'setosa',\n",
      "       'setosa', 'versicolor', 'setosa', 'virginica'], dtype=object), 'petal_length'), (array(['versicolor', 'virginica', 'setosa', 'versicolor', 'setosa',\n",
      "       'versicolor', 'versicolor', 'versicolor', 'setosa', 'versicolor',\n",
      "       'versicolor', 'virginica', 'versicolor', 'setosa', 'setosa',\n",
      "       'virginica', 'virginica', 'setosa', 'setosa', 'setosa',\n",
      "       'virginica', 'virginica', 'virginica', 'setosa', 'versicolor',\n",
      "       'setosa', 'versicolor', 'versicolor', 'versicolor', 'virginica',\n",
      "       'versicolor', 'versicolor', 'virginica', 'virginica', 'virginica',\n",
      "       'setosa', 'virginica', 'virginica', 'virginica', 'virginica',\n",
      "       'setosa', 'setosa', 'versicolor', 'setosa', 'virginica', 'setosa',\n",
      "       'versicolor', 'virginica', 'virginica', 'virginica', 'versicolor',\n",
      "       'virginica', 'versicolor', 'versicolor', 'versicolor', 'setosa',\n",
      "       'setosa', 'versicolor', 'setosa', 'virginica'], dtype=object), 'petal_width')]\n"
     ]
    }
   ],
   "source": [
    "def get_y_single_feature_predictions():\n",
    "    single_feature_sets = [ (TRAIN[feature], TEST[feature], feature) for feature in FEATURE_COLUMNS]\n",
    "    return [ (fit_and_predict(KNeighborsClassifier(n_neighbors=11),\\\n",
    "                                                 train_col.values.reshape(-1, 1),\\\n",
    "                                                 TRAIN['species'], test_col.values.reshape(-1, 1)), feature)\\\n",
    "                                for train_col, test_col, feature in single_feature_sets]\n",
    "\n",
    "Y_SINGLE_FEATURE_PREDICTIONS = get_y_single_feature_predictions()\n",
    "\n",
    "print(Y_SINGLE_FEATURE_PREDICTIONS)"
   ]
  },
  {
   "cell_type": "markdown",
   "metadata": {},
   "source": [
    "# What did we get?\n",
    "\n",
    "- looks like petal_width and petal_length produce the best accuracies independently"
   ]
  },
  {
   "cell_type": "code",
   "execution_count": 350,
   "metadata": {},
   "outputs": [
    {
     "name": "stdout",
     "output_type": "stream",
     "text": [
      "[('petal_width', 0.95), ('petal_length', 0.9333333333333333), ('sepal_length', 0.6166666666666667), ('sepal_width', 0.5333333333333333)]\n"
     ]
    }
   ],
   "source": [
    "SINGLE_FEATURE_SCORES = get_accuracy_scores(TEST['species'], Y_SINGLE_FEATURE_PREDICTIONS)\n",
    "\n",
    "print(sorted(SINGLE_FEATURE_SCORES.items(), key=lambda x: x[1], reverse=True))\n"
   ]
  },
  {
   "cell_type": "markdown",
   "metadata": {},
   "source": [
    "# Now for Doubles\n",
    "- for getting the best combinations of double features, the process is very similar to single features\n",
    "## I love itertools <3\n",
    "- with itertools we can use the combinations function to produce all possible n sized pairs from a list\n",
    "- this will give a list of tuples, which can later be cast to lists for indexing our datasets\n",
    "- since we are now dealing with full DataFrames we don't have to worry about reshaping like we did with single features"
   ]
  },
  {
   "cell_type": "code",
   "execution_count": 351,
   "metadata": {},
   "outputs": [
    {
     "name": "stdout",
     "output_type": "stream",
     "text": [
      "[(array(['virginica', 'virginica', 'setosa', 'virginica', 'setosa',\n",
      "       'versicolor', 'virginica', 'versicolor', 'setosa', 'versicolor',\n",
      "       'versicolor', 'versicolor', 'versicolor', 'setosa', 'setosa',\n",
      "       'virginica', 'virginica', 'setosa', 'setosa', 'setosa',\n",
      "       'virginica', 'virginica', 'virginica', 'setosa', 'versicolor',\n",
      "       'setosa', 'versicolor', 'versicolor', 'virginica', 'virginica',\n",
      "       'versicolor', 'virginica', 'virginica', 'versicolor', 'virginica',\n",
      "       'setosa', 'virginica', 'virginica', 'virginica', 'virginica',\n",
      "       'setosa', 'setosa', 'versicolor', 'setosa', 'virginica', 'setosa',\n",
      "       'virginica', 'virginica', 'versicolor', 'virginica', 'virginica',\n",
      "       'virginica', 'versicolor', 'virginica', 'virginica', 'setosa',\n",
      "       'setosa', 'virginica', 'setosa', 'virginica'], dtype=object), ('sepal_length', 'sepal_width')), (array(['versicolor', 'virginica', 'setosa', 'virginica', 'setosa',\n",
      "       'versicolor', 'virginica', 'versicolor', 'setosa', 'versicolor',\n",
      "       'versicolor', 'virginica', 'versicolor', 'setosa', 'setosa',\n",
      "       'virginica', 'versicolor', 'setosa', 'setosa', 'setosa',\n",
      "       'virginica', 'virginica', 'virginica', 'setosa', 'versicolor',\n",
      "       'setosa', 'versicolor', 'versicolor', 'versicolor', 'virginica',\n",
      "       'versicolor', 'versicolor', 'virginica', 'virginica', 'virginica',\n",
      "       'setosa', 'virginica', 'virginica', 'virginica', 'virginica',\n",
      "       'setosa', 'setosa', 'versicolor', 'setosa', 'virginica', 'setosa',\n",
      "       'versicolor', 'virginica', 'virginica', 'virginica', 'versicolor',\n",
      "       'virginica', 'versicolor', 'versicolor', 'versicolor', 'setosa',\n",
      "       'setosa', 'virginica', 'setosa', 'virginica'], dtype=object), ('sepal_length', 'petal_length')), (array(['versicolor', 'virginica', 'setosa', 'versicolor', 'setosa',\n",
      "       'versicolor', 'virginica', 'versicolor', 'setosa', 'versicolor',\n",
      "       'versicolor', 'virginica', 'versicolor', 'setosa', 'setosa',\n",
      "       'virginica', 'virginica', 'setosa', 'setosa', 'setosa',\n",
      "       'virginica', 'virginica', 'virginica', 'setosa', 'versicolor',\n",
      "       'setosa', 'versicolor', 'versicolor', 'versicolor', 'virginica',\n",
      "       'versicolor', 'versicolor', 'virginica', 'virginica', 'virginica',\n",
      "       'setosa', 'virginica', 'virginica', 'virginica', 'virginica',\n",
      "       'setosa', 'setosa', 'versicolor', 'setosa', 'virginica', 'setosa',\n",
      "       'versicolor', 'virginica', 'virginica', 'virginica', 'virginica',\n",
      "       'virginica', 'versicolor', 'virginica', 'versicolor', 'setosa',\n",
      "       'setosa', 'versicolor', 'setosa', 'virginica'], dtype=object), ('sepal_length', 'petal_width')), (array(['versicolor', 'virginica', 'setosa', 'versicolor', 'setosa',\n",
      "       'versicolor', 'virginica', 'versicolor', 'setosa', 'versicolor',\n",
      "       'versicolor', 'virginica', 'versicolor', 'setosa', 'setosa',\n",
      "       'virginica', 'versicolor', 'setosa', 'setosa', 'setosa',\n",
      "       'virginica', 'virginica', 'versicolor', 'setosa', 'versicolor',\n",
      "       'setosa', 'versicolor', 'versicolor', 'versicolor', 'virginica',\n",
      "       'versicolor', 'versicolor', 'virginica', 'virginica', 'virginica',\n",
      "       'setosa', 'virginica', 'virginica', 'virginica', 'virginica',\n",
      "       'setosa', 'setosa', 'versicolor', 'setosa', 'versicolor', 'setosa',\n",
      "       'virginica', 'versicolor', 'virginica', 'virginica', 'versicolor',\n",
      "       'virginica', 'versicolor', 'versicolor', 'versicolor', 'setosa',\n",
      "       'setosa', 'versicolor', 'setosa', 'virginica'], dtype=object), ('sepal_width', 'petal_length')), (array(['versicolor', 'virginica', 'setosa', 'versicolor', 'setosa',\n",
      "       'versicolor', 'versicolor', 'versicolor', 'setosa', 'versicolor',\n",
      "       'versicolor', 'virginica', 'versicolor', 'setosa', 'setosa',\n",
      "       'virginica', 'virginica', 'setosa', 'setosa', 'setosa',\n",
      "       'virginica', 'virginica', 'virginica', 'setosa', 'versicolor',\n",
      "       'setosa', 'versicolor', 'versicolor', 'versicolor', 'virginica',\n",
      "       'versicolor', 'versicolor', 'virginica', 'virginica', 'virginica',\n",
      "       'setosa', 'virginica', 'virginica', 'virginica', 'virginica',\n",
      "       'setosa', 'setosa', 'versicolor', 'setosa', 'versicolor', 'setosa',\n",
      "       'versicolor', 'virginica', 'virginica', 'virginica', 'versicolor',\n",
      "       'virginica', 'versicolor', 'versicolor', 'versicolor', 'setosa',\n",
      "       'setosa', 'versicolor', 'setosa', 'virginica'], dtype=object), ('sepal_width', 'petal_width')), (array(['versicolor', 'virginica', 'setosa', 'versicolor', 'setosa',\n",
      "       'versicolor', 'virginica', 'versicolor', 'setosa', 'versicolor',\n",
      "       'versicolor', 'virginica', 'versicolor', 'setosa', 'setosa',\n",
      "       'virginica', 'versicolor', 'setosa', 'setosa', 'setosa',\n",
      "       'virginica', 'virginica', 'virginica', 'setosa', 'versicolor',\n",
      "       'setosa', 'versicolor', 'versicolor', 'versicolor', 'virginica',\n",
      "       'versicolor', 'versicolor', 'virginica', 'virginica', 'virginica',\n",
      "       'setosa', 'virginica', 'virginica', 'virginica', 'virginica',\n",
      "       'setosa', 'setosa', 'versicolor', 'setosa', 'versicolor', 'setosa',\n",
      "       'virginica', 'virginica', 'virginica', 'virginica', 'versicolor',\n",
      "       'virginica', 'versicolor', 'versicolor', 'versicolor', 'setosa',\n",
      "       'setosa', 'versicolor', 'setosa', 'virginica'], dtype=object), ('petal_length', 'petal_width'))]\n"
     ]
    }
   ],
   "source": [
    "from itertools import combinations\n",
    "\n",
    "def get_y_double_feature_predictions():\n",
    "    double_features = list(combinations(FEATURE_COLUMNS, 2))\n",
    "    return [(fit_and_predict(KNeighborsClassifier(n_neighbors=11), TRAIN[list(double_feature)], TRAIN['species'], TEST[list(double_feature)]), double_feature) for double_feature in double_features]\n",
    "    \n",
    "Y_DOUBLE_FEATURE_PREDICTIONS = get_y_double_feature_predictions()\n",
    "\n",
    "print(Y_DOUBLE_FEATURE_PREDICTIONS)"
   ]
  },
  {
   "cell_type": "markdown",
   "metadata": {},
   "source": [
    "# What did we get?\n",
    "- looks like (sepal_width, petal_width produces the highest accuracy)\n",
    "\n",
    "### These features are not what we found in the ranking of single features!\n",
    "- Single features may produce a higher accuracy independently, but that does not guarentee a higher accuracy when paired\n",
    "- pairing 2 features that have low accuracy on their own may produce an information gain higher than that produced by choosing the most accurate features independently.\n",
    "- petal width and petal length still were quite close to the lead, but in the end were beat our by the combination of sepal_width and petal_width"
   ]
  },
  {
   "cell_type": "code",
   "execution_count": 352,
   "metadata": {},
   "outputs": [
    {
     "name": "stdout",
     "output_type": "stream",
     "text": [
      "[(('sepal_width', 'petal_width'), 0.9666666666666667), (('sepal_width', 'petal_length'), 0.95), (('petal_length', 'petal_width'), 0.95), (('sepal_length', 'petal_length'), 0.9166666666666666), (('sepal_length', 'petal_width'), 0.9), (('sepal_length', 'sepal_width'), 0.7333333333333333)]\n"
     ]
    }
   ],
   "source": [
    "DOUBLE_FEATURE_SCORES = get_accuracy_scores(TEST['species'], Y_DOUBLE_FEATURE_PREDICTIONS)\n",
    "\n",
    "print(sorted(DOUBLE_FEATURE_SCORES.items(), key=lambda x: x[1], reverse=True))"
   ]
  },
  {
   "cell_type": "code",
   "execution_count": null,
   "metadata": {},
   "outputs": [],
   "source": []
  }
 ],
 "metadata": {
  "kernelspec": {
   "display_name": "Python 3",
   "language": "python",
   "name": "python3"
  },
  "language_info": {
   "codemirror_mode": {
    "name": "ipython",
    "version": 3
   },
   "file_extension": ".py",
   "mimetype": "text/x-python",
   "name": "python",
   "nbconvert_exporter": "python",
   "pygments_lexer": "ipython3",
   "version": "3.7.2"
  }
 },
 "nbformat": 4,
 "nbformat_minor": 2
}
